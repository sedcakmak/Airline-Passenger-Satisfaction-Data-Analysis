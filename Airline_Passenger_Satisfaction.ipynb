{
  "nbformat": 4,
  "nbformat_minor": 0,
  "metadata": {
    "colab": {
      "provenance": [],
      "authorship_tag": "ABX9TyNXWUfdZz2u+P0SC71Uqw/s",
      "include_colab_link": true
    },
    "kernelspec": {
      "name": "python3",
      "display_name": "Python 3"
    },
    "language_info": {
      "name": "python"
    }
  },
  "cells": [
    {
      "cell_type": "markdown",
      "metadata": {
        "id": "view-in-github",
        "colab_type": "text"
      },
      "source": [
        "<a href=\"https://colab.research.google.com/github/sedcakmak/Airline-Passenger-Satisfaction-Data-Analysis/blob/main/Airline_Passenger_Satisfaction.ipynb\" target=\"_parent\"><img src=\"https://colab.research.google.com/assets/colab-badge.svg\" alt=\"Open In Colab\"/></a>"
      ]
    },
    {
      "cell_type": "markdown",
      "source": [
        "\n",
        "# ✈️ **INTRODUCTION**\n",
        "\n",
        "---\n",
        "\n",
        "For this project, the **Airline Passenger Satisfaction** dataset is used. You can find the original dataset on Kaggle [here](https://www.kaggle.com/datasets/teejmahal20/airline-passenger-satisfaction/data).\n",
        "\n",
        "## 📊 **Dataset Selection & Description**\n",
        "\n",
        "I chose this dataset because I found its structure clearer and easier to understand. The column names were familiar (age, gender, flight distance, etc.), and the goal — to understand whether passengers were satisfied or not — seemed more straightforward. It felt like a good starting point to learn data analysis without needing advanced cleaning or domain knowledge.\n",
        "\n",
        "## 📋 **Project Objectives**\n",
        "* Dataset Selection and Setup\n",
        "\n",
        "* Statistical Summary\n",
        "\n",
        "* Missing Data Analysis\n",
        "\n",
        "* Outlier Detection\n",
        "\n",
        "* Visualization\n"
      ],
      "metadata": {
        "id": "DlP1FcxOMN-5"
      }
    },
    {
      "cell_type": "markdown",
      "source": [
        "\n",
        "## 📥 **Dataset Selection and Setup**\n"
      ],
      "metadata": {
        "id": "UzEFMwDBNChc"
      }
    },
    {
      "cell_type": "code",
      "source": [
        "import kagglehub\n",
        "path = kagglehub.dataset_download(\"teejmahal20/airline-passenger-satisfaction\")\n",
        "print(\"Path to dataset files:\", path)\n",
        "\n",
        "import pandas as pd\n",
        "train = pd.read_csv(f'{path}/train.csv')\n",
        "test = pd.read_csv(f'{path}/test.csv')\n",
        "\n",
        "df = pd.concat([train, test], ignore_index=True)"
      ],
      "metadata": {
        "id": "k9PhlAkJX00H"
      },
      "execution_count": null,
      "outputs": []
    },
    {
      "cell_type": "markdown",
      "source": [
        "\n",
        "## 📊 **Statistical Summary**\n"
      ],
      "metadata": {
        "id": "QmXVXNDVLnOj"
      }
    },
    {
      "cell_type": "code",
      "source": [
        "print(\"=\"*13)\n",
        "print(\"DATASET INFO:\")\n",
        "print(\"=\"*13)\n",
        "df.info()\n",
        "\n",
        "print()\n",
        "\n",
        "print(\"=\"*20)\n",
        "print(\"STATISTICAL SUMMARY:\")\n",
        "print(\"=\"*20)\n",
        "df.describe()"
      ],
      "metadata": {
        "id": "L9zvcn4N6cUq"
      },
      "execution_count": null,
      "outputs": []
    },
    {
      "cell_type": "code",
      "source": [
        "# Shows all values in each categorical column\n",
        "for col in df.select_dtypes(include=['object']).columns:\n",
        "    print(f\"{df[col].value_counts().to_string().upper()}\\n\")"
      ],
      "metadata": {
        "id": "Ircop96KXsT1"
      },
      "execution_count": null,
      "outputs": []
    },
    {
      "cell_type": "code",
      "source": [
        "# Most common passenger age\n",
        "print(\"Most common passenger age:\", df['Age'].mode()[0])\n",
        "\n",
        "# Number of passengers under 18\n",
        "print(\"Number of passengers under 18:\", len(df[df['Age'] < 18]))\n",
        "\n",
        "# Number of senior passengers (over65)\n",
        "print(\"Number of senior passengers:\", len(df[df['Age'] > 65]))"
      ],
      "metadata": {
        "id": "1rqfa2iG0Ol6"
      },
      "execution_count": null,
      "outputs": []
    },
    {
      "cell_type": "markdown",
      "source": [
        "\n",
        "### **Cleaning Data**\n"
      ],
      "metadata": {
        "id": "ecz9hT0M6BbU"
      }
    },
    {
      "cell_type": "code",
      "source": [
        "# Unnamed and id are not needed\n",
        "df.drop(['Unnamed: 0', 'id'], axis=1, inplace=True)"
      ],
      "metadata": {
        "id": "AcbIkxbDB95E"
      },
      "execution_count": null,
      "outputs": []
    },
    {
      "cell_type": "markdown",
      "source": [
        "\n",
        "## 🔍 **Missing Data Analysis**\n"
      ],
      "metadata": {
        "id": "opPfnZV4Z_mF"
      }
    },
    {
      "cell_type": "code",
      "source": [
        "# Number of missing values\n",
        "df.isnull().sum()"
      ],
      "metadata": {
        "id": "OCDtVPJG52oW"
      },
      "execution_count": null,
      "outputs": []
    },
    {
      "cell_type": "markdown",
      "source": [
        "\n",
        "### 🧹 **Handling Missing Data**\n"
      ],
      "metadata": {
        "id": "PKoYf9VBKTZW"
      }
    },
    {
      "cell_type": "code",
      "source": [
        "# Create a boolean flag to track which values were originally missing\n",
        "df['Arrival_Delay_Missing'] = df['Arrival Delay in Minutes'].isnull()"
      ],
      "metadata": {
        "id": "NWH2m2OPzsar"
      },
      "execution_count": null,
      "outputs": []
    },
    {
      "cell_type": "code",
      "source": [
        "# Fill missing values with the median (0.0 minutes)\n",
        "df.fillna({'Arrival Delay in Minutes': df['Arrival Delay in Minutes'].median()}, inplace=True)"
      ],
      "metadata": {
        "id": "fh7z-2lgzrJd"
      },
      "execution_count": null,
      "outputs": []
    },
    {
      "cell_type": "code",
      "source": [
        "print(f\"Imputed {df['Arrival_Delay_Missing'].sum()} missing values\")\n",
        "print(f\"Median used for imputation: {df['Arrival Delay in Minutes'].median()} minutes\") # The median of 0.0 indicates that at least 50% of flights had no arrival delay."
      ],
      "metadata": {
        "id": "QoRrdBCXzuc0"
      },
      "execution_count": null,
      "outputs": []
    },
    {
      "cell_type": "code",
      "source": [
        "df.info() # double checking"
      ],
      "metadata": {
        "id": "CIFDyarls6Xb"
      },
      "execution_count": null,
      "outputs": []
    },
    {
      "cell_type": "markdown",
      "source": [
        "\n",
        "## 🚨 **Outlier Detection**\n"
      ],
      "metadata": {
        "id": "3S9jnEsjZf1G"
      }
    },
    {
      "cell_type": "code",
      "source": [
        "# Checking Outlier in Rating Columns\n",
        "\n",
        "rating_columns = [\n",
        "    'Inflight wifi service', 'Departure/Arrival time convenient',\n",
        "    'Ease of Online booking', 'Gate location', 'Food and drink',\n",
        "    'Online boarding', 'Seat comfort', 'Inflight entertainment',\n",
        "    'On-board service', 'Leg room service', 'Baggage handling',\n",
        "    'Checkin service', 'Inflight service', 'Cleanliness'\n",
        "]\n",
        "\n",
        "melted = pd.DataFrame()\n",
        "\n",
        "for col in rating_columns:\n",
        "    counts = df[col].value_counts().sort_index()\n",
        "    counts.name = col\n",
        "    melted = pd.concat([melted, counts], axis=1)\n",
        "\n",
        "display(melted.fillna(0).astype(int))\n"
      ],
      "metadata": {
        "id": "wlhQNLY-XRHp"
      },
      "execution_count": null,
      "outputs": []
    },
    {
      "cell_type": "code",
      "source": [
        "# Using Interquartile Range (IQR) (Age, Flight Distance, Departure Delay in Minutes, Arrival Delay in Minutes)\n",
        "\n",
        "def detect_outliers(df, column):\n",
        "    Q1 = df[column].quantile(0.25)\n",
        "    Q3 = df[column].quantile(0.75)\n",
        "    IQR = Q3 - Q1\n",
        "    lower_limit = Q1 - 1.5 * IQR\n",
        "    upper_limit = Q3 + 1.5 * IQR\n",
        "    return df[(df[column] < lower_limit) | (df[column] > upper_limit)]\n",
        "\n",
        "for col in ['Age', 'Flight Distance', 'Departure Delay in Minutes', 'Arrival Delay in Minutes']:\n",
        "    outliers = detect_outliers(df, col)\n",
        "    print(f\"Outliers in {col.upper()}:\")\n",
        "    print(\"=\"*40)\n",
        "   # print(outliers.shape)\n",
        "    print(outliers[col].describe().to_string())\n",
        "    print()"
      ],
      "metadata": {
        "id": "T-pm2A242Rg_"
      },
      "execution_count": null,
      "outputs": []
    },
    {
      "cell_type": "code",
      "source": [
        "# Visualizing Outliers Using Boxplot - Departure Delay\n",
        "import matplotlib.pyplot as plt\n",
        "import seaborn as sns\n",
        "\n",
        "plt.figure(figsize=(8, 6))\n",
        "outliers = detect_outliers(df, 'Departure Delay in Minutes')\n",
        "sns.boxplot(x=outliers['Departure Delay in Minutes'])\n",
        "plt.title(\"Boxplot for Outlier Detection - Departure Delay in Minutes\", fontweight = 'bold')\n",
        "plt.show()"
      ],
      "metadata": {
        "id": "tS7InzRmOq3d"
      },
      "execution_count": null,
      "outputs": []
    },
    {
      "cell_type": "code",
      "source": [
        "# Visualizing Outliers Using Boxplot - Arrival Delay\n",
        "plt.figure(figsize=(8, 6))\n",
        "outliers = detect_outliers(df, 'Arrival Delay in Minutes')\n",
        "sns.boxplot(x=outliers['Arrival Delay in Minutes'])\n",
        "plt.title(\"Boxplot for Outlier Detection - Arrival Delay in Minutes\", fontweight = 'bold')\n",
        "plt.show()\n"
      ],
      "metadata": {
        "id": "SfMyGWNCXe38"
      },
      "execution_count": null,
      "outputs": []
    },
    {
      "cell_type": "markdown",
      "source": [
        "\n",
        "## 📉 **Visualization**\n"
      ],
      "metadata": {
        "id": "mW6ZXgNrZVwt"
      }
    },
    {
      "cell_type": "code",
      "source": [
        "# Gender Distribution\n",
        "ax = df['Gender'].value_counts().plot(kind='bar', figsize=(5, 7), color=['mediumpurple', 'darkorange'])\n",
        "plt.title('Gender Distribution', fontweight='bold', fontsize=16)\n",
        "plt.xlabel('Gender', fontweight='bold')\n",
        "plt.ylabel('Number of Customers', fontweight='bold')\n",
        "plt.xticks(rotation=0, fontweight='bold')\n",
        "\n",
        "for i, v in enumerate(df['Gender'].value_counts().values):\n",
        "    ax.text(i, v + 500, str(v), ha='center', va='bottom', fontstyle='italic', fontweight='bold')\n",
        "\n",
        "plt.show()"
      ],
      "metadata": {
        "id": "MxoMVuNpbSrH"
      },
      "execution_count": null,
      "outputs": []
    },
    {
      "cell_type": "code",
      "source": [
        "# Age Distribution\n",
        "df['Age'].plot(kind='hist', bins=20, figsize=(8, 6), color='steelblue')\n",
        "plt.title('Age Distribution of Passengers', fontweight='bold', fontsize=16)\n",
        "plt.xlabel('Age', fontweight='bold')\n",
        "plt.ylabel('Number of Passengers', fontweight='bold')\n",
        "plt.grid(True, alpha=0.3)\n",
        "plt.show()"
      ],
      "metadata": {
        "id": "PqcxQDekezW-"
      },
      "execution_count": null,
      "outputs": []
    },
    {
      "cell_type": "code",
      "source": [
        "# Customer Satisfaction\n",
        "satisfaction_counts = df['satisfaction'].value_counts()\n",
        "labels = satisfaction_counts.index\n",
        "sizes = satisfaction_counts.values\n",
        "colors = ['#FD4954','#01BF7F']\n",
        "explode = [0.05, 0.05]\n",
        "\n",
        "plt.figure(figsize=(6, 6))\n",
        "plt.pie(\n",
        "    sizes,\n",
        "    labels=labels,\n",
        "    autopct='%1.1f%%',\n",
        "    startangle=140,\n",
        "    shadow=True,\n",
        "    explode=explode,\n",
        "    colors=colors\n",
        ")\n",
        "plt.title('Customer Satisfaction', fontsize=16, fontweight='bold')\n",
        "plt.axis('equal')\n",
        "plt.show()"
      ],
      "metadata": {
        "id": "QKuOczUtgW_4"
      },
      "execution_count": null,
      "outputs": []
    },
    {
      "cell_type": "code",
      "source": [
        "# Satisfaction Across Different Classes\n",
        "df.groupby('Class')['satisfaction'].value_counts().unstack().plot(kind='bar', figsize=(10, 6), color = ['#FD4954', '#01BF7F'])\n",
        "\n",
        "plt.title('Customer Satisfaction by Class', fontweight='bold', fontsize=16)\n",
        "plt.xlabel('Class', fontweight='bold')\n",
        "plt.ylabel('Number of Customers', fontweight='bold')\n",
        "plt.legend(title='Satisfaction')\n",
        "plt.xticks(rotation=45)\n",
        "plt.show()"
      ],
      "metadata": {
        "id": "nmqmk9WlmDjs"
      },
      "execution_count": null,
      "outputs": []
    },
    {
      "cell_type": "code",
      "source": [
        "# Average Service Ratings by Flight Class\n",
        "\n",
        "services = [\n",
        "    'Inflight wifi service', 'Departure/Arrival time convenient',\n",
        "    'Ease of Online booking', 'Gate location', 'Food and drink',\n",
        "    'Online boarding', 'Seat comfort', 'Inflight entertainment',\n",
        "    'On-board service', 'Leg room service', 'Baggage handling',\n",
        "    'Checkin service', 'Inflight service', 'Cleanliness'\n",
        "]\n",
        "\n",
        "heatmap_df = pd.DataFrame()\n",
        "\n",
        "for class_type in ['Business', 'Eco', 'Eco Plus']:\n",
        "    class_data = df[df['Class'] == class_type][services].mean()\n",
        "    heatmap_df[class_type] = class_data\n",
        "\n",
        "heatmap_df = heatmap_df.T\n",
        "\n",
        "plt.figure(figsize=(14, 6))\n",
        "sns.heatmap(heatmap_df,\n",
        "            annot=True,\n",
        "            fmt='.1f',\n",
        "            cmap='RdYlGn',\n",
        "            cbar_kws={'label': 'Rating (1-5)'})\n",
        "\n",
        "plt.title('Average Service Ratings by Flight Class', fontweight='bold', fontsize=16)\n",
        "plt.xlabel('Service', fontweight='bold')\n",
        "plt.ylabel('Flight Class', fontweight='bold')\n",
        "plt.xticks(rotation=45, ha='right')\n",
        "plt.tight_layout()\n",
        "plt.show()"
      ],
      "metadata": {
        "id": "sxHTJ7tX2XCD"
      },
      "execution_count": null,
      "outputs": []
    },
    {
      "cell_type": "code",
      "source": [
        "# Departure Delay vs Arrival Delay (Scatter Plot)\n",
        "plt.figure(figsize=(10, 6))\n",
        "plt.scatter(df['Departure Delay in Minutes'], df['Arrival Delay in Minutes'], alpha=0.5, color='steelblue')\n",
        "plt.title('Departure Delay vs Arrival Delay', fontweight='bold', fontsize=16)\n",
        "plt.xlabel('Departure Delay (Minutes)', fontweight='bold')\n",
        "plt.ylabel('Arrival Delay (Minutes)', fontweight='bold')\n",
        "plt.grid(True, alpha=0.3)\n",
        "plt.show()"
      ],
      "metadata": {
        "id": "YJz8DEqF0ZrX"
      },
      "execution_count": null,
      "outputs": []
    },
    {
      "cell_type": "markdown",
      "source": [
        "\n",
        "### **CONCLUSION** ✈️\n",
        "This project analyzed the Airline Passenger Satisfaction dataset to uncover key insights into passenger demographics, service ratings, delays, and satisfaction levels. The data showed that most passengers were adults, with a small percentage under 18 or over 65. Ratings were mostly within the expected 1–5 range, though significant outliers existed in delay-related fields.\n",
        "\n",
        "# **Data Quality and Outlier Analysis** 🔍\n",
        "\n",
        "Outlier analysis was conducted across four key categories: Age, Flight Distance, Departure Delay in Minutes, and Arrival Delay in Minutes. The results revealed interesting patterns in data quality and operational challenges.\n",
        "Age showed no outliers, indicating reliable demographic data collection. Flight Distance identified 2,855 potential outliers, but with a mean distance of 3,890 miles—typical for international flights—these values represent legitimate long-haul routes rather than data errors.\n",
        "\n",
        "However, delay data revealed significant operational issues. Departure delays contained 18,098 outliers, while arrival delays had 17,492 outliers. The most extreme cases were concerning: the longest departure delay reached 1,592 minutes (26.5 hours), and the longest arrival delay was 1,584 minutes (26.4 hours). These extreme delays suggest serious operational disruptions affecting thousands of passengers. Missing values in \"Arrival Delay in Minutes\" were minimal and successfully imputed using the median.\n",
        "\n",
        "#**Key Findings** 📊\n",
        "\n",
        "Visualizations revealed a fairly balanced gender distribution and satisfaction levels leaning slightly positive, with notably higher satisfaction rates among Business class passengers. Heatmaps showed that Business class consistently rated services higher than Economy and Eco Plus across all service categories, highlighting a clear service quality gap between passenger classes.\n",
        "Most importantly, departure delays were moderately correlated with arrival delays, showing that when flights leave late, they tend to arrive late too. This suggests that fixing departure timing issues could improve overall flight performance.\n",
        "\n",
        "#**Final Thoughts** 💭\n",
        "\n",
        "This analysis provides a strong foundation for further customer experience improvements, particularly focusing on Economy class service enhancement and operational delay reduction strategies.\n"
      ],
      "metadata": {
        "id": "PwJDCHVKAcF0"
      }
    }
  ]
}