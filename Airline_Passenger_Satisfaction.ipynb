{
  "nbformat": 4,
  "nbformat_minor": 0,
  "metadata": {
    "colab": {
      "provenance": [],
      "authorship_tag": "ABX9TyPugfuUcMrEtWyM9ENDgXxW",
      "include_colab_link": true
    },
    "kernelspec": {
      "name": "python3",
      "display_name": "Python 3"
    },
    "language_info": {
      "name": "python"
    }
  },
  "cells": [
    {
      "cell_type": "markdown",
      "metadata": {
        "id": "view-in-github",
        "colab_type": "text"
      },
      "source": [
        "<a href=\"https://colab.research.google.com/github/sedcakmak/Airline-Passenger-Satisfaction-Data-Analysis/blob/main/Airline_Passenger_Satisfaction.ipynb\" target=\"_parent\"><img src=\"https://colab.research.google.com/assets/colab-badge.svg\" alt=\"Open In Colab\"/></a>"
      ]
    },
    {
      "cell_type": "markdown",
      "source": [
        "# ✈️ **INTRODUCTION**\n",
        "\n",
        "---\n",
        "\n",
        "For this project, the **Airline Passenger Satisfaction** dataset is used. You can find the original dataset on Kaggle [here](https://www.kaggle.com/datasets/teejmahal20/airline-passenger-satisfaction/data).\n",
        "\n",
        "## 📊 **Dataset Selection & Description**\n",
        "\n",
        "I chose this dataset because I found its structure clearer and easier to understand. The column names were familiar (age, gender, flight distance, etc.), and the goal — to understand whether passengers were satisfied or not — seemed more straightforward. It felt like a good starting point to learn data analysis without needing advanced cleaning or domain knowledge.\n",
        "\n",
        "## 📋 **Project Objectives**\n",
        "* Dataset Selection and Setup\n",
        "\n",
        "* Statistical Summary\n",
        "\n",
        "* Missing Data Analysis\n",
        "\n",
        "* Outlier Detection\n",
        "\n",
        "* Visualization\n",
        "\n",
        "\n",
        "---\n",
        "\n"
      ],
      "metadata": {
        "id": "DlP1FcxOMN-5"
      }
    },
    {
      "cell_type": "markdown",
      "source": [
        "## 📥 **Setup: Install Kaggle API & Download Dataset**"
      ],
      "metadata": {
        "id": "UzEFMwDBNChc"
      }
    },
    {
      "cell_type": "code",
      "source": [
        "! pip install kaggle"
      ],
      "metadata": {
        "id": "NcRNDt5brXlA"
      },
      "execution_count": null,
      "outputs": []
    },
    {
      "cell_type": "code",
      "source": [
        "import kagglehub\n",
        "\n",
        "path = kagglehub.dataset_download(\"teejmahal20/airline-passenger-satisfaction\")\n",
        "\n",
        "print(\"Path to dataset files:\", path)"
      ],
      "metadata": {
        "id": "k9PhlAkJX00H"
      },
      "execution_count": null,
      "outputs": []
    },
    {
      "cell_type": "code",
      "source": [
        "import os\n",
        "\n",
        "os.listdir('/kaggle/input/airline-passenger-satisfaction')"
      ],
      "metadata": {
        "id": "ncoxmS79srBX"
      },
      "execution_count": null,
      "outputs": []
    },
    {
      "cell_type": "code",
      "source": [
        "import pandas as pd\n",
        "\n",
        "train = pd.read_csv('/kaggle/input/airline-passenger-satisfaction/train.csv')\n",
        "test = pd.read_csv('/kaggle/input/airline-passenger-satisfaction/test.csv')\n",
        "\n",
        "df = pd.concat([train, test], ignore_index=True)\n",
        "df.head(10)"
      ],
      "metadata": {
        "id": "XCbPbdlgrd1B"
      },
      "execution_count": null,
      "outputs": []
    },
    {
      "cell_type": "markdown",
      "source": [
        "## 📊 **Statistical Summary**"
      ],
      "metadata": {
        "id": "QmXVXNDVLnOj"
      }
    },
    {
      "cell_type": "code",
      "source": [
        "df.shape         # how many rows & columns\n",
        "df.columns       # list of column names\n",
        "df.info()        # data types + missing values\n",
        "df.describe()    # basic stats (only numeric columns)"
      ],
      "metadata": {
        "id": "L9zvcn4N6cUq"
      },
      "execution_count": null,
      "outputs": []
    },
    {
      "cell_type": "code",
      "source": [
        "# Number of males and females\n",
        "gender_counts = df['Gender'].value_counts()\n",
        "for gender, count in gender_counts.items():\n",
        "    print(f\"{gender}: {count}\")\n",
        "\n",
        "# Average age\n",
        "print(\"Average age:\", round(df['Age'].mean(), 2))\n",
        "\n",
        "# Most common passenger age\n",
        "print(\"Most common passenger age:\", df['Age'].mode()[0])\n",
        "\n",
        "# Youngest passenger\n",
        "print(\"Youngest age:\", df['Age'].min())\n",
        "\n",
        "# Oldest passenger\n",
        "print(\"Oldest age:\", df['Age'].max())\n",
        "\n",
        "# Number of passengers under 18\n",
        "print(\"Number of passengers under 18:\", df[df['Age'] < 18].shape[0])"
      ],
      "metadata": {
        "id": "1rqfa2iG0Ol6"
      },
      "execution_count": null,
      "outputs": []
    },
    {
      "cell_type": "code",
      "source": [
        "# Create age bins\n",
        "age_bins = pd.cut(df['Age'], bins=[0, 19, 29, 39, 49, 59, 69, 79, 89])\n",
        "print(age_bins.value_counts().sort_values(ascending=False))"
      ],
      "metadata": {
        "id": "dvL794pQ0kSM"
      },
      "execution_count": null,
      "outputs": []
    },
    {
      "cell_type": "code",
      "source": [
        "# Shows the first 10 unique values\n",
        "for col in df.select_dtypes(include=['object']).columns:\n",
        "    print(f\"--- {col} ---\")\n",
        "    print(df[col].unique()[:10])\n",
        "    print()"
      ],
      "metadata": {
        "id": "4FqdxZvm8JKH"
      },
      "execution_count": null,
      "outputs": []
    },
    {
      "cell_type": "code",
      "source": [
        "# Shows all values and their counts in each categorical column\n",
        "for col in df.select_dtypes(include=['object']).columns:\n",
        "    print(f\"\\n{df[col].value_counts().to_string()}\\n\")"
      ],
      "metadata": {
        "id": "Ircop96KXsT1"
      },
      "execution_count": null,
      "outputs": []
    },
    {
      "cell_type": "code",
      "source": [
        "#Correlation between numeric columns\n",
        "print(df.corr(numeric_only=True))"
      ],
      "metadata": {
        "id": "pZ015__pZ9t_"
      },
      "execution_count": null,
      "outputs": []
    },
    {
      "cell_type": "code",
      "source": [
        "# wifi not available\n",
        "print(\"Number of passengers with wifi service = 0:\", (df['Inflight wifi service'] == 0).sum())\n",
        "\n",
        "print(df[df['Inflight wifi service'] == 0])"
      ],
      "metadata": {
        "id": "_rBaKLCCVReH"
      },
      "execution_count": null,
      "outputs": []
    },
    {
      "cell_type": "markdown",
      "source": [
        "## 🔍 **Missing Data Analysis**"
      ],
      "metadata": {
        "id": "opPfnZV4Z_mF"
      }
    },
    {
      "cell_type": "code",
      "source": [
        "# Number of missing values\n",
        "df.isnull().sum()\n"
      ],
      "metadata": {
        "id": "OCDtVPJG52oW"
      },
      "execution_count": null,
      "outputs": []
    },
    {
      "cell_type": "code",
      "source": [
        "# Percentage of missing data in the dataset\n",
        "print(f\"Percentage: {df['Arrival Delay in Minutes'].isnull().mean():.2%}\")"
      ],
      "metadata": {
        "id": "Ea2O6alU7UiA"
      },
      "execution_count": null,
      "outputs": []
    },
    {
      "cell_type": "markdown",
      "source": [
        "## 🧹 **Handling Missing Data**"
      ],
      "metadata": {
        "id": "PKoYf9VBKTZW"
      }
    },
    {
      "cell_type": "code",
      "source": [
        "# Unnamed and id are not needed\n",
        "df.drop(['Unnamed: 0', 'id'], axis=1, inplace=True)"
      ],
      "metadata": {
        "id": "AcbIkxbDB95E"
      },
      "execution_count": null,
      "outputs": []
    },
    {
      "cell_type": "code",
      "source": [
        "# Arrival Delay in minutes are dropped since the percentage is too low\n",
        "# The reason for this missing data could be due to the fact that there is no arrival delay\n",
        "df.dropna(subset=['Arrival Delay in Minutes'], inplace=True)"
      ],
      "metadata": {
        "id": "i-n8_F2EB5qf"
      },
      "execution_count": null,
      "outputs": []
    },
    {
      "cell_type": "code",
      "source": [
        "df.info() # double checking"
      ],
      "metadata": {
        "id": "CIFDyarls6Xb"
      },
      "execution_count": null,
      "outputs": []
    },
    {
      "cell_type": "markdown",
      "source": [
        "## 🚨 **Outlier Detection**"
      ],
      "metadata": {
        "id": "3S9jnEsjZf1G"
      }
    },
    {
      "cell_type": "code",
      "source": [
        "Q1 = df['Age'].quantile(0.25)  # lower quartile\n",
        "Q3 = df['Age'].quantile(0.75)  # upper quartile\n",
        "IQR = Q3 - Q1\n",
        "lower_limit = Q1 - 1.5 * IQR\n",
        "upper_limit = Q3 + 1.5 * IQR\n",
        "\n",
        "outliers = df[(df['Age'] < lower_limit) | (df['Age'] > upper_limit)]\n",
        "print(outliers)\n"
      ],
      "metadata": {
        "id": "lfqnDkeQa8Pd"
      },
      "execution_count": null,
      "outputs": []
    },
    {
      "cell_type": "markdown",
      "source": [
        "## 📉 **Visualization**"
      ],
      "metadata": {
        "id": "mW6ZXgNrZVwt"
      }
    },
    {
      "cell_type": "code",
      "source": [
        "import seaborn as sns\n",
        "sns.boxplot(data=df, x='Age')\n"
      ],
      "metadata": {
        "id": "a7vZAVa3bGd4"
      },
      "execution_count": null,
      "outputs": []
    }
  ]
}